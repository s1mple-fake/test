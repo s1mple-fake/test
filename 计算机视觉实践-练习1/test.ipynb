{
 "cells": [
  {
   "cell_type": "code",
   "execution_count": 1,
   "metadata": {},
   "outputs": [],
   "source": [
    "import cv2\n",
    "from PIL import Image\n",
    "import numpy as np\n",
    "\n"
   ]
  },
  {
   "cell_type": "code",
   "execution_count": 2,
   "metadata": {},
   "outputs": [],
   "source": [
    "def load_image(path, gray=False):\n",
    "    if gray:\n",
    "        img = cv2.imread(path)\n",
    "        return cv2.cvtColor(img, cv2.COLOR_RGB2GRAY)\n",
    "    else:\n",
    "        return cv2.imread(path)\n",
    "\n"
   ]
  },
  {
   "cell_type": "code",
   "execution_count": 3,
   "metadata": {},
   "outputs": [],
   "source": [
    "# 读取两张需要拼接的图像\n",
    "img1 = load_image('input1.png')\n",
    "img2 = load_image('input2.png')\n",
    "\n",
    "# 创建SIFT对象\n",
    "sift = cv2.SIFT_create()\n",
    "\n",
    "# 分别对两幅图像提取关键点和特征描述子\n",
    "kp1, des1 = sift.detectAndCompute(img1, None)\n",
    "kp2, des2 = sift.detectAndCompute(img2, None)\n",
    "\n",
    "# 创建用于匹配的BFMatcher对象\n",
    "bf = cv2.BFMatcher()\n",
    "\n",
    "# 使用knnMatch函数实现特征点的匹配\n",
    "matches = bf.knnMatch(des1, des2, k=2)\n",
    "\n",
    "# 通过筛选匹配点对，计算透视变换矩阵\n",
    "good = []\n",
    "for m, n in matches:\n",
    "    if m.distance < 0.5 * n.distance:\n",
    "        good.append(m)\n",
    "\n",
    "if len(good) > 10:\n",
    "    src_pts = np.float32([ kp1[m.queryIdx].pt for m in good ]).reshape(-1, 1, 2)\n",
    "    dst_pts = np.float32([ kp2[m.trainIdx].pt for m in good ]).reshape(-1, 1, 2)\n",
    "\n",
    "    M, mask = cv2.findHomography(src_pts, dst_pts, cv2.RANSAC, 5.0)\n",
    "\n",
    "    # 将图片进行拼接\n",
    "    result = cv2.warpPerspective(img1, M, (img1.shape[1]+img2.shape[1], img1.shape[0]))\n",
    "    result[0:img2.shape[0], 0:img2.shape[1]] = img2\n",
    "    cv2.imwrite('result.jpg', result)\n",
    "else:\n",
    "    print(\"匹配点数量过少！\")"
   ]
  }
 ],
 "metadata": {
  "kernelspec": {
   "display_name": "pytorch",
   "language": "python",
   "name": "python3"
  },
  "language_info": {
   "codemirror_mode": {
    "name": "ipython",
    "version": 3
   },
   "file_extension": ".py",
   "mimetype": "text/x-python",
   "name": "python",
   "nbconvert_exporter": "python",
   "pygments_lexer": "ipython3",
   "version": "3.8.16"
  },
  "orig_nbformat": 4
 },
 "nbformat": 4,
 "nbformat_minor": 2
}
