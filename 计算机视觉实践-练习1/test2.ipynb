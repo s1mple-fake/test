{
 "cells": [
  {
   "cell_type": "code",
   "execution_count": 6,
   "metadata": {},
   "outputs": [],
   "source": [
    "import numpy as np\n",
    "import cv2 as cv\n",
    "from PIL import Image"
   ]
  },
  {
   "cell_type": "code",
   "execution_count": 7,
   "metadata": {},
   "outputs": [],
   "source": [
    "def test_KMeans(image_path) :\n",
    "    image = cv.imread(image_path, cv.IMREAD_COLOR)\n",
    "    image = cv.cvtColor(image, cv.COLOR_BGR2RGB)\n",
    "    pixel_value = np.float32(image.reshape((-1, 3)))\n",
    "\n",
    "    #终止条件\n",
    "    criteria = (cv.TERM_CRITERIA_EPS + cv.TERM_CRITERIA_MAX_ITER, 200, 0.1)\n",
    "\n",
    "    #起始的中心选择\n",
    "    flags = cv.KMEANS_RANDOM_CENTERS\n",
    "\n",
    "    #定义簇的数量\n",
    "    K = 3\n",
    "\n",
    "    _, labels, center = cv.kmeans(pixel_value, K, None, criteria, 10, flags)\n",
    "    center = np.uint8(center)\n",
    "\n",
    "    #将所有像素转换为质心的颜色\n",
    "    segmented_image = center[labels.flatten()]\n",
    "    \n",
    "    #重塑回原始图像尺寸\n",
    "    segmented_image = segmented_image.reshape((image.shape))\n",
    "\n",
    "    cv.imwrite('kmeans.png', segmented_image)"
   ]
  },
  {
   "cell_type": "code",
   "execution_count": 8,
   "metadata": {},
   "outputs": [],
   "source": [
    "image_path = '1.png'\n",
    "test_KMeans(image_path)"
   ]
  }
 ],
 "metadata": {
  "kernelspec": {
   "display_name": "torch-gpu",
   "language": "python",
   "name": "python3"
  },
  "language_info": {
   "codemirror_mode": {
    "name": "ipython",
    "version": 3
   },
   "file_extension": ".py",
   "mimetype": "text/x-python",
   "name": "python",
   "nbconvert_exporter": "python",
   "pygments_lexer": "ipython3",
   "version": "3.6.13"
  },
  "orig_nbformat": 4,
  "vscode": {
   "interpreter": {
    "hash": "8498815b3a6ad33eb1c66b8962ed0a201522e5cbebe65293d28adc083a15dfcf"
   }
  }
 },
 "nbformat": 4,
 "nbformat_minor": 2
}
