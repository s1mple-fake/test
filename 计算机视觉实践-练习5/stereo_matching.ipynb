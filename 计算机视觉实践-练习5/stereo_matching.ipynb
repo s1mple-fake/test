{
 "cells": [
  {
   "cell_type": "code",
   "execution_count": 150,
   "metadata": {},
   "outputs": [],
   "source": [
    "import cv2\n",
    "import numpy as np"
   ]
  },
  {
   "cell_type": "code",
   "execution_count": 151,
   "metadata": {},
   "outputs": [],
   "source": [
    "left_camera_matrix = np.array([[516.5066236,-1.444673028,320.2950423],[0,516.5816117,270.7881873],[0.,0.,1.]])\n",
    "right_camera_matrix = np.array([[511.8428182,1.295112628,317.310253],[0,513.0748795,269.5885026],[0.,0.,1.]])\n",
    "\n",
    "# 畸变系数,K1、K2、K3为径向畸变,P1、P2为切向畸变\n",
    "left_distortion = np.array([[-0.046645194,0.077595167, 0.012476819,-0.000711358,0]])\n",
    "right_distortion = np.array([[-0.061588946,0.122384376,0.011081232,-0.000750439,0]])"
   ]
  },
  {
   "cell_type": "code",
   "execution_count": 152,
   "metadata": {},
   "outputs": [],
   "source": [
    "R = np.array([[0.999911333,-0.004351508,0.012585312],\n",
    "              [0.004184066,0.999902792,0.013300386],\n",
    "              [-0.012641965,-0.013246549,0.999832341]])\n",
    "# 平移矩阵\n",
    "T = np.array([-120.3559901,-0.188953775,-0.662073075])\n",
    "\n",
    "size = (640, 480)\n",
    "\n",
    "R1, R2, P1, P2, Q, validPixROI1, validPixROI2 = cv2.stereoRectify(left_camera_matrix, left_distortion,\n",
    "                                                                  right_camera_matrix, right_distortion, size, R,\n",
    "                                                                  T)\n",
    "\n",
    "# 校正查找映射表,将原始图像和校正后的图像上的点一一对应起来\n",
    "left_map1, left_map2 = cv2.initUndistortRectifyMap(left_camera_matrix, left_distortion, R1, P1, size, cv2.CV_16SC2)\n",
    "right_map1, right_map2 = cv2.initUndistortRectifyMap(right_camera_matrix, right_distortion, R2, P2, size, cv2.CV_16SC2)"
   ]
  },
  {
   "cell_type": "code",
   "execution_count": 153,
   "metadata": {},
   "outputs": [],
   "source": [
    "def estimate_depth(left_path, right_path, show=True):\n",
    "    img_left = cv2.imread(left_path)\n",
    "    img_right = cv2.imread(right_path)\n",
    "    imgL = cv2.cvtColor(img_left, cv2.COLOR_BGR2GRAY)\n",
    "    imgR = cv2.cvtColor(img_right, cv2.COLOR_BGR2GRAY)\n",
    "\n",
    "    img1_rectified = cv2.remap(imgL, left_map1, left_map2, cv2.INTER_LINEAR)\n",
    "    img2_rectified = cv2.remap(imgR, right_map1, right_map2, cv2.INTER_LINEAR)\n",
    "    \n",
    "    imageL = cv2.cvtColor(img1_rectified, cv2.COLOR_GRAY2BGR)\n",
    "    imageR = cv2.cvtColor(img2_rectified, cv2.COLOR_GRAY2BGR)\n",
    "\n",
    "    height, width = img_left.shape[:2]\n",
    "\n",
    "    # 初始化stereo block match对象\n",
    "    stereo =  stereo = cv2.StereoSGBM_create(minDisparity=1,\n",
    "                                   numDisparities=64,\n",
    "                                   blockSize=8,\n",
    "                                   P1=8 * 3 * 8 * 8,\n",
    "                                   P2=32 * 3 * 8 * 8,\n",
    "                                   disp12MaxDiff=-1,\n",
    "                                   preFilterCap=1,\n",
    "                                   uniquenessRatio=10,\n",
    "                                   speckleWindowSize=100,\n",
    "                                   speckleRange=100,\n",
    "                                   mode=cv2.STEREO_SGBM_MODE_HH)\n",
    "\n",
    "    # 获取视差图\n",
    "    #disparity = stereo.compute(img1_rectified, img2_rectified)\n",
    "    disparity = stereo.compute(imageL, imageR)\n",
    "    disp = cv2.normalize(disparity, disparity, alpha=0, beta=255, norm_type=cv2.NORM_MINMAX, dtype=cv2.CV_8U)\n",
    "    cv2.imwrite('disparity.jpg', disp)\n",
    "    dis_color = disparity\n",
    "    dis_color = cv2.normalize(dis_color, None, alpha=0, beta=255, norm_type=cv2.NORM_MINMAX, dtype=cv2.CV_8U)\n",
    "    dis_color = cv2.applyColorMap(dis_color, 2)\n",
    "    cv2.imwrite('disparity_color.jpg', dis_color)\n",
    "\n"
   ]
  },
  {
   "cell_type": "code",
   "execution_count": 154,
   "metadata": {},
   "outputs": [],
   "source": [
    "estimate_depth('left01.jpg', 'right01.jpg')"
   ]
  }
 ],
 "metadata": {
  "kernelspec": {
   "display_name": "pytorch",
   "language": "python",
   "name": "python3"
  },
  "language_info": {
   "codemirror_mode": {
    "name": "ipython",
    "version": 3
   },
   "file_extension": ".py",
   "mimetype": "text/x-python",
   "name": "python",
   "nbconvert_exporter": "python",
   "pygments_lexer": "ipython3",
   "version": "3.8.16"
  },
  "orig_nbformat": 4
 },
 "nbformat": 4,
 "nbformat_minor": 2
}
