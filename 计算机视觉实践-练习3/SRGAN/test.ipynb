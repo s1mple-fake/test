{
 "cells": [
  {
   "cell_type": "code",
   "execution_count": 5,
   "metadata": {},
   "outputs": [],
   "source": [
    "import argparse\n",
    "import sys\n",
    "import os\n",
    "import time\n",
    "import PIL.Image as pil_image\n",
    "from PIL import Image\n",
    "import torch\n",
    "import torch.nn as nn\n",
    "from torch.autograd import Variable\n",
    "import numpy as np\n",
    "import torchvision\n",
    "import torchvision.datasets as datasets\n",
    "from torch.autograd import Variable\n",
    "from torchvision.utils import save_image\n",
    "from torchvision.transforms import ToTensor, ToPILImage\n",
    "from model import Generator, Discriminator, FeatureExtractor"
   ]
  },
  {
   "cell_type": "code",
   "execution_count": 6,
   "metadata": {},
   "outputs": [],
   "source": [
    "generator_file = 'C:\\\\Users\\\\14394\\\\Desktop\\\\test\\\\计算机视觉实践-练习3\\\\SRGAN\\\\models\\\\generator_final.pth'\n",
    "discriminator_file = 'C:\\\\Users\\\\14394\\\\Desktop\\\\test\\\\计算机视觉实践-练习3\\\\SRGAN\\\\models\\\\discriminator_final.pth'\n",
    "image_file = 'C:\\\\Users\\\\14394\\\\Desktop\\\\test\\\\计算机视觉实践-练习3\\\\data\\\\Set5\\\\head.png'\n",
    "\n",
    "UPSCALE_FACTOR = 4\n",
    "IMAGE_NAME = image_file\n",
    "MODEL_NAME = generator_file"
   ]
  },
  {
   "cell_type": "code",
   "execution_count": 7,
   "metadata": {},
   "outputs": [
    {
     "data": {
      "text/plain": [
       "Discriminator(\n",
       "  (conv1): Conv2d(3, 64, kernel_size=(3, 3), stride=(1, 1), padding=(1, 1))\n",
       "  (conv2): Conv2d(64, 64, kernel_size=(3, 3), stride=(2, 2), padding=(1, 1))\n",
       "  (bn2): BatchNorm2d(64, eps=1e-05, momentum=0.1, affine=True, track_running_stats=True)\n",
       "  (conv3): Conv2d(64, 128, kernel_size=(3, 3), stride=(1, 1), padding=(1, 1))\n",
       "  (bn3): BatchNorm2d(128, eps=1e-05, momentum=0.1, affine=True, track_running_stats=True)\n",
       "  (conv4): Conv2d(128, 128, kernel_size=(3, 3), stride=(2, 2), padding=(1, 1))\n",
       "  (bn4): BatchNorm2d(128, eps=1e-05, momentum=0.1, affine=True, track_running_stats=True)\n",
       "  (conv5): Conv2d(128, 256, kernel_size=(3, 3), stride=(1, 1), padding=(1, 1))\n",
       "  (bn5): BatchNorm2d(256, eps=1e-05, momentum=0.1, affine=True, track_running_stats=True)\n",
       "  (conv6): Conv2d(256, 256, kernel_size=(3, 3), stride=(2, 2), padding=(1, 1))\n",
       "  (bn6): BatchNorm2d(256, eps=1e-05, momentum=0.1, affine=True, track_running_stats=True)\n",
       "  (conv7): Conv2d(256, 512, kernel_size=(3, 3), stride=(1, 1), padding=(1, 1))\n",
       "  (bn7): BatchNorm2d(512, eps=1e-05, momentum=0.1, affine=True, track_running_stats=True)\n",
       "  (conv8): Conv2d(512, 512, kernel_size=(3, 3), stride=(2, 2), padding=(1, 1))\n",
       "  (bn8): BatchNorm2d(512, eps=1e-05, momentum=0.1, affine=True, track_running_stats=True)\n",
       "  (conv9): Conv2d(512, 1, kernel_size=(1, 1), stride=(1, 1), padding=(1, 1))\n",
       ")"
      ]
     },
     "execution_count": 7,
     "metadata": {},
     "output_type": "execute_result"
    }
   ],
   "source": [
    "device = torch.device('cuda:0' if torch.cuda.is_available() else 'cpu')\n",
    "generator = Generator(16, UPSCALE_FACTOR)\n",
    "discriminator = Discriminator()\n",
    "feature_extractor = FeatureExtractor(torchvision.models.vgg19(pretrained=True)).to(device)\n",
    "\n",
    "generator.load_state_dict(torch.load(generator_file))\n",
    "discriminator.load_state_dict(torch.load(discriminator_file))\n",
    "generator.to(device)\n",
    "discriminator.to(device)\n",
    "generator.eval()\n",
    "discriminator.eval()"
   ]
  },
  {
   "cell_type": "code",
   "execution_count": 8,
   "metadata": {},
   "outputs": [
    {
     "name": "stderr",
     "output_type": "stream",
     "text": [
      "C:\\Users\\14394\\AppData\\Local\\Temp\\ipykernel_25284\\402048512.py:2: UserWarning: volatile was removed and now has no effect. Use `with torch.no_grad():` instead.\n",
      "  image = Variable(ToTensor()(image), volatile=True).unsqueeze(0).to(device)\n"
     ]
    }
   ],
   "source": [
    "image = Image.open(IMAGE_NAME)\n",
    "image = Variable(ToTensor()(image), volatile=True).unsqueeze(0).to(device)\n",
    "\n",
    "with torch.no_grad():\n",
    "    out = generator(image)\n",
    "out_img = ToPILImage()(out[0].data.cpu())\n",
    "out_img.save('head_' + str(UPSCALE_FACTOR) + IMAGE_NAME[-4:])"
   ]
  }
 ],
 "metadata": {
  "kernelspec": {
   "display_name": "pytorch",
   "language": "python",
   "name": "python3"
  },
  "language_info": {
   "codemirror_mode": {
    "name": "ipython",
    "version": 3
   },
   "file_extension": ".py",
   "mimetype": "text/x-python",
   "name": "python",
   "nbconvert_exporter": "python",
   "pygments_lexer": "ipython3",
   "version": "3.8.16"
  },
  "orig_nbformat": 4
 },
 "nbformat": 4,
 "nbformat_minor": 2
}
