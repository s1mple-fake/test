{
 "cells": [
  {
   "cell_type": "code",
   "execution_count": 57,
   "metadata": {},
   "outputs": [],
   "source": [
    "import numpy as np\n",
    "from PIL import Image\n",
    "import cv2"
   ]
  },
  {
   "cell_type": "code",
   "execution_count": 58,
   "metadata": {},
   "outputs": [],
   "source": [
    "def load_image(path, gray=False):\n",
    "    if gray:\n",
    "        img = cv2.imread(path)\n",
    "        return cv2.cvtColor(img, cv2.COLOR_RGB2GRAY)\n",
    "    else:\n",
    "        return cv2.imread(path)"
   ]
  },
  {
   "cell_type": "code",
   "execution_count": 59,
   "metadata": {},
   "outputs": [],
   "source": [
    "img1 = load_image('1.png')\n",
    "img2 = load_image('2.png')\n"
   ]
  },
  {
   "cell_type": "code",
   "execution_count": 60,
   "metadata": {},
   "outputs": [
    {
     "data": {
      "text/plain": [
       "True"
      ]
     },
     "execution_count": 60,
     "metadata": {},
     "output_type": "execute_result"
    }
   ],
   "source": [
    "sift = cv2.SIFT_create()\n",
    "kp1, des1 = sift.detectAndCompute(img1, None)\n",
    "kp2, des2 = sift.detectAndCompute(img2, None)\n",
    "img3 = cv2.drawKeypoints(img1, kp1, img1, color=(0, 255, 255))\n",
    "img4 = cv2.drawKeypoints(img2, kp2, img2, color=(0, 255, 255))\n",
    "cv2.imwrite('3.png', img3)\n",
    "cv2.imwrite('4.png', img4)"
   ]
  },
  {
   "cell_type": "code",
   "execution_count": 61,
   "metadata": {},
   "outputs": [
    {
     "data": {
      "text/plain": [
       "True"
      ]
     },
     "execution_count": 61,
     "metadata": {},
     "output_type": "execute_result"
    }
   ],
   "source": [
    "index_params = dict(algorithm=1, trees=6)\n",
    "search_params = dict(checks=50)\n",
    "flann = cv2.FlannBasedMatcher(index_params, search_params)\n",
    "matche = flann.knnMatch(des1, des2, k=2)\n",
    "matchesMask = [[0, 0] for i in range(len(matche))]\n",
    "result = []\n",
    "for m, n in matche:\n",
    "    if m.distance < 0.8 * n.distance:\n",
    "        result.append([m])\n",
    "img5 = cv2.drawMatchesKnn(img1, kp1, img2, kp2, matche[:10], None, flags=2)\n",
    "cv2.imwrite(\"5.png\", img5)"
   ]
  }
 ],
 "metadata": {
  "kernelspec": {
   "display_name": "torch-gpu",
   "language": "python",
   "name": "python3"
  },
  "language_info": {
   "codemirror_mode": {
    "name": "ipython",
    "version": 3
   },
   "file_extension": ".py",
   "mimetype": "text/x-python",
   "name": "python",
   "nbconvert_exporter": "python",
   "pygments_lexer": "ipython3",
   "version": "3.6.13"
  },
  "orig_nbformat": 4,
  "vscode": {
   "interpreter": {
    "hash": "8498815b3a6ad33eb1c66b8962ed0a201522e5cbebe65293d28adc083a15dfcf"
   }
  }
 },
 "nbformat": 4,
 "nbformat_minor": 2
}
